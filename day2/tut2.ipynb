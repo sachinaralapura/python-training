{
 "cells": [
  {
   "cell_type": "markdown",
   "metadata": {},
   "source": [
    "## control statements"
   ]
  },
  {
   "cell_type": "code",
   "execution_count": null,
   "metadata": {},
   "outputs": [],
   "source": [
    "# if\n",
    "a = 1\n",
    "if a == 1:\n",
    "    print(\"a is one\")"
   ]
  },
  {
   "cell_type": "code",
   "execution_count": null,
   "metadata": {},
   "outputs": [],
   "source": [
    "# else\n",
    "a = 2\n",
    "if a == 1:\n",
    "    print(\"a is one\")\n",
    "else:\n",
    "    print(\"a is not one\")"
   ]
  },
  {
   "cell_type": "code",
   "execution_count": null,
   "metadata": {},
   "outputs": [],
   "source": [
    "# if..else chain statement \n",
    "letter = \"A\"\n",
    "\n",
    "if letter == \"B\":\n",
    "print(\"letter is B\")\n",
    "\n",
    "else: \n",
    "\t\n",
    "if letter == \"C\":\n",
    "\tprint(\"letter is C\")\n",
    "\t\n",
    "else:\n",
    "\t\n",
    "\tif letter == \"A\":\n",
    "\tprint(\"letter is A\")\n",
    "\t\n",
    "\telse: \n",
    "\tprint(\"letter isn't A, B and C\")\n"
   ]
  },
  {
   "cell_type": "code",
   "execution_count": null,
   "metadata": {},
   "outputs": [],
   "source": [
    "# Nested if statement example\n",
    "num = 10\n",
    "\n",
    "if num > 5:\n",
    "print(\"Bigger than 5\")\n",
    "\n",
    "if num <= 15:\n",
    "\tprint(\"Between 5 and 15\")\n"
   ]
  },
  {
   "cell_type": "code",
   "execution_count": null,
   "metadata": {},
   "outputs": [],
   "source": [
    "# elif statements\n",
    "a = \"B\"\n",
    "if a == \"A\":\n",
    "    print(\"A\")\n",
    "elif a == \"B\":\n",
    "    print(\"B\")\n",
    "else:\n",
    "    print(\"c\")"
   ]
  },
  {
   "cell_type": "markdown",
   "metadata": {},
   "source": [
    "##### output formatting in python"
   ]
  },
  {
   "cell_type": "code",
   "execution_count": null,
   "metadata": {},
   "outputs": [],
   "source": [
    "# Python program showing how to use string modulo operator(%)\n",
    "\n",
    "print(\"Geeks : %2d, Portal : %5.2f\" % (1, 05.333)) \n",
    "\n",
    "print(\"Total students : %3d, Boys : %2d\" % (240, 120)) # print integer value\n",
    "\n",
    "print(\"%7.3o\" % (25)) # print octal value\n",
    "\n",
    "print(\"%10.3E\" % (356.08977)) # print exponential value\n"
   ]
  },
  {
   "cell_type": "code",
   "execution_count": null,
   "metadata": {},
   "outputs": [],
   "source": [
    "print('I love {} for \"{}!\"'.format('Geeks', 'Geeks'))\n",
    "\n",
    "# using format() method and referring a position of the object\n",
    "print('{0} and {1}'.format('Geeks', 'Portal'))\n",
    "\n",
    "print('{1} and {0}'.format('Geeks', 'Portal'))\n",
    "\n",
    "print(f\"I love {'Geeks'} for \\\"{'Geeks'}!\\\"\")\n",
    "\n",
    "# using format() method and referring a position of the object\n",
    "print(f\"{'Geeks'} and {'Portal'}\")\n"
   ]
  },
  {
   "cell_type": "markdown",
   "metadata": {},
   "source": [
    "#### loops\n"
   ]
  },
  {
   "cell_type": "code",
   "execution_count": null,
   "metadata": {},
   "outputs": [],
   "source": [
    "import math\n",
    "import random\n",
    "# a = 10\n",
    "# b = 30\n",
    "# while True:\n",
    "#     print(a)"
   ]
  },
  {
   "cell_type": "code",
   "execution_count": null,
   "metadata": {},
   "outputs": [],
   "source": [
    "namelist = [\n",
    "    \"Naruto\",\n",
    "    \"one piece\",\n",
    "    \"DragonBall\",\n",
    "    \"Bleach\",\n",
    "    \"JK\",\n",
    "    \"Black Clover\",\n",
    "    \"Demon slayer\",\n",
    "    \"HunterXHunter\",\n",
    "    \"Tokyo revenger\",\n",
    "    \"one punch man\",\n",
    "]\n",
    "\n",
    "namelist[math.floor(random.random() * 10)]"
   ]
  },
  {
   "cell_type": "code",
   "execution_count": null,
   "metadata": {},
   "outputs": [],
   "source": [
    "i = 0\n",
    "while i != \"END\":\n",
    "    # print(\"Enter END to end the programme.\")\n",
    "    # print(i =input(\"Enter the END to end tjhe programme.\"))\n",
    "    # i = input()\n",
    "    # print(i)\n",
    "    num1 = 0\n",
    "    num2 = 0\n",
    "    print(\"Enter first integer\")\n",
    "    num1 = int(input())\n",
    "    print(\"First integer value\", num1)\n",
    "    print(num1, type(num1))\n",
    "    print(\"Enter second integer\")\n",
    "    num2 = int(input())\n",
    "    print(\"Second integer value\", num2)\n",
    "    print(num2, type(num2))\n",
    "    print(\"Enter 1 to add, 2 to sub, 3 for mul, 4 for division\")\n",
    "    a = int(input())\n",
    "    if a == 1:\n",
    "        print(num1 + num2)\n",
    "    elif a == 2:\n",
    "        print(num1 - num2)\n",
    "    elif a == 3:\n",
    "        print(num1 * num2)\n",
    "    elif a == 4:\n",
    "        print(num1 / num2)\n",
    "    else:\n",
    "        print(\"End of this process.\")"
   ]
  },
  {
   "cell_type": "markdown",
   "metadata": {},
   "source": [
    "#### Anonymous function\n"
   ]
  },
  {
   "cell_type": "code",
   "execution_count": null,
   "metadata": {},
   "outputs": [],
   "source": [
    "animeList = [\n",
    "    \"Naruto\",\n",
    "    \"one piece\",\n",
    "    \"DragonBall\",\n",
    "    \"Bleach\",\n",
    "    \"JK\",\n",
    "]\n",
    "\n",
    "animes = [\n",
    "    \"Fullmetal Alchemist: Brotherhood\",\n",
    "    \"Attack on Titan\",\n",
    "    \"Neon Genesis Evangelion\",\n",
    "    \"Code Geass: Lelouch of the Rebellion\",\n",
    "    \"Steins;Gate\",\n",
    "    \"Cowboy Bebop\",\n",
    "    \"Death Note\",\n",
    "    \"Hunter x Hunter\",\n",
    "    \"A Silent Voice\",\n",
    "    \"Spirited Away\",\n",
    "    \"Princess Mononoke\",\n",
    "]\n",
    "\n",
    "length = lambda x: [(len(i),i)  for i in x]\n",
    "print(length(animes))\n",
    "# print([len(i) + 5 for i in animes])"
   ]
  },
  {
   "cell_type": "code",
   "execution_count": null,
   "metadata": {},
   "outputs": [],
   "source": [
    "def add(a=0, b=0):\n",
    "    return a + b\n",
    "    \n",
    "\n",
    "add(a=34, b=33)"
   ]
  },
  {
   "cell_type": "markdown",
   "metadata": {},
   "source": [
    "##### variable number of arguments\n",
    "##### *args "
   ]
  },
  {
   "cell_type": "code",
   "execution_count": null,
   "metadata": {},
   "outputs": [],
   "source": [
    "def pp(*argv):\n",
    "    for arg in argv:\n",
    "        print(arg)\n",
    "\n",
    "\n",
    "# pp(\"sachin \", \"cse\", \"7th sem\")\n",
    "\n",
    "\n",
    "def ppp(arg1, **kwargs):\n",
    "    print(arg1)\n",
    "    for key, value in kwargs.items():\n",
    "        print(\"%s == %s\" % (key, value))\n",
    "\n",
    "\n",
    "ppp(\"Mike Hawk\", a=\"Dang Lin Wang\", b=\"Moe Lester\", c=\"Eric Shawn\")"
   ]
  },
  {
   "cell_type": "markdown",
   "metadata": {},
   "source": [
    "#### pandas\n"
   ]
  },
  {
   "cell_type": "markdown",
   "metadata": {},
   "source": [
    "# Day 3"
   ]
  },
  {
   "cell_type": "code",
   "execution_count": null,
   "metadata": {},
   "outputs": [],
   "source": [
    "import pandas as pd\n",
    "df = pd.read_csv(\"../csv/Retail_Transactions_Dataset.csv\")"
   ]
  },
  {
   "cell_type": "code",
   "execution_count": null,
   "metadata": {},
   "outputs": [],
   "source": [
    "df.tail()\n",
    "df.head()\n",
    "df.describe()\n",
    "df.columns\n",
    "df.shape\n",
    "df.count()\n"
   ]
  },
  {
   "cell_type": "markdown",
   "metadata": {},
   "source": [
    "mean , median , variance , standard deviation , mode "
   ]
  },
  {
   "cell_type": "code",
   "execution_count": null,
   "metadata": {},
   "outputs": [],
   "source": [
    "Total_items = df['Total_Items ']\n",
    "print(\"average items bought\" , Total_items.mean())"
   ]
  },
  {
   "cell_type": "code",
   "execution_count": null,
   "metadata": {},
   "outputs": [],
   "source": [
    "Total_cost = df[' Total_Cost ']\n",
    "print(\"average of the cost is : \" , Total_cost.mean())"
   ]
  },
  {
   "cell_type": "code",
   "execution_count": null,
   "metadata": {},
   "outputs": [],
   "source": [
    "print(\"variance of cost : \"  , Total_cost.var())"
   ]
  },
  {
   "cell_type": "code",
   "execution_count": null,
   "metadata": {},
   "outputs": [],
   "source": [
    "print(Total_items.mode())"
   ]
  },
  {
   "cell_type": "code",
   "execution_count": null,
   "metadata": {},
   "outputs": [],
   "source": [
    "print(\"standard deviation of the total-items is :\", Total_items.std())"
   ]
  },
  {
   "cell_type": "markdown",
   "metadata": {},
   "source": [
    "#### To write csv file"
   ]
  },
  {
   "cell_type": "code",
   "execution_count": null,
   "metadata": {},
   "outputs": [],
   "source": [
    "df['City          '].to_csv(\"../csv/city.csv\")"
   ]
  },
  {
   "cell_type": "markdown",
   "metadata": {},
   "source": [
    "#### Reading excel file"
   ]
  },
  {
   "cell_type": "code",
   "execution_count": null,
   "metadata": {},
   "outputs": [],
   "source": [
    "data = pd.read_excel(\"../csv/Financial Sample.xlsx\")\n",
    "data5 = pd.read_excel(\"../csv/file_example_ODS_100.ods\", nrows=5, engine=\"odf\")  # nrows\n",
    "dataskip = pd.read_excel(\"../csv/Financial Sample.xlsx\", skiprows=range(5))  # skiprows\n",
    "datausecol = pd.read_excel(\"../csv/Financial Sample.xlsx\", usecols=\"A,B,C\")  # usecols\n",
    "Country = pd.read_excel(\"../csv/Financial Sample.xlsx\", usecols=[\"Country\"])\n",
    "sheet2 = pd.read_excel(\n",
    "    \"../csv/file_example_ODS_100.ods\", engine=\"odf\", sheet_name=\"Sheet2\"\n",
    ")\n",
    "display(data)"
   ]
  },
  {
   "cell_type": "markdown",
   "metadata": {},
   "source": [
    "##### excel_writer "
   ]
  },
  {
   "cell_type": "code",
   "execution_count": null,
   "metadata": {},
   "outputs": [],
   "source": [
    "pp = pd.read_excel(\"../csv/Financial Sample.xlsx\")  \n",
    "excel_writer = pd.ExcelWriter(\"../csv/new.xlsx\", engine=\"xlsxwriter\")\n",
    "pp.to_excel(excel_writer, sheet_name=\"sheet1\", index=True)\n",
    "excel_writer.close()"
   ]
  },
  {
   "cell_type": "markdown",
   "metadata": {},
   "source": [
    "## File I/O"
   ]
  },
  {
   "cell_type": "code",
   "execution_count": null,
   "metadata": {},
   "outputs": [],
   "source": [
    "# ---------------------- reading file -------------\n",
    "\n",
    "with open(\"../requirements.txt\") as file:\n",
    "    content = file.read()  # file.read(100) -> to read 100 bytes\n",
    "    print(content)"
   ]
  },
  {
   "cell_type": "code",
   "execution_count": null,
   "metadata": {},
   "outputs": [],
   "source": [
    "#--------------------------- writing file -------------------------\n",
    "with open(\"../new.txt\" ,\"w\") as file:\n",
    "    file.write(\"new text\")"
   ]
  },
  {
   "cell_type": "code",
   "execution_count": null,
   "metadata": {},
   "outputs": [],
   "source": [
    "with open(\"../new.txt\" ,'w') as file:\n",
    "    file.seek(10)\n",
    "    position = file.tell()\n",
    "   "
   ]
  },
  {
   "cell_type": "code",
   "execution_count": null,
   "metadata": {},
   "outputs": [],
   "source": [
    "with open(\"../new.txt\" , \"r\") as file:\n",
    "    for line in file:\n",
    "        print(line , end=\" \") #Print lines without extra newLine"
   ]
  },
  {
   "cell_type": "markdown",
   "metadata": {},
   "source": [
    "### Exception handling "
   ]
  },
  {
   "cell_type": "code",
   "execution_count": null,
   "metadata": {},
   "outputs": [],
   "source": [
    "try:\n",
    "    res = 10/0\n",
    "except ZeroDivisionError:\n",
    "    print(\"Division by zero is not allowed\")"
   ]
  },
  {
   "cell_type": "code",
   "execution_count": null,
   "metadata": {},
   "outputs": [],
   "source": [
    "try:\n",
    "    import ppppp\n",
    "except ModuleNotFoundError:\n",
    "    print(\"enter correct module\")"
   ]
  },
  {
   "cell_type": "code",
   "execution_count": null,
   "metadata": {},
   "outputs": [],
   "source": [
    "try:\n",
    "    value = int(\"sachin\")\n",
    "    res = 10/0\n",
    "except ValueError:\n",
    "    print(\"Invaild conversion to integer\")\n",
    "except ZeroDivisionError:\n",
    "    print(\"Division by zero is not allowed\")"
   ]
  },
  {
   "cell_type": "markdown",
   "metadata": {},
   "source": [
    "### Math module"
   ]
  },
  {
   "cell_type": "code",
   "execution_count": null,
   "metadata": {},
   "outputs": [],
   "source": [
    "import math\n",
    "\n",
    "lst = [1, 2, 3, 4, 5, 6, 7, 8]\n",
    "# math.perm(lst , 3)\n",
    "math.perm(71,10)\n",
    "math.sinh(1)\n",
    "math.log2(128)\n",
    "help(math.modf)\n",
    "math.modf()"
   ]
  },
  {
   "cell_type": "code",
   "execution_count": null,
   "metadata": {},
   "outputs": [],
   "source": [
    "import os\n",
    "dir(os)\n",
    "os.curdir\n",
    "os.name\n",
    "os.sep\n",
    "os.environ\n",
    "os.environb"
   ]
  },
  {
   "cell_type": "markdown",
   "metadata": {},
   "source": []
  }
 ],
 "metadata": {
  "kernelspec": {
   "display_name": "venv",
   "language": "python",
   "name": "python3"
  },
  "language_info": {
   "codemirror_mode": {
    "name": "ipython",
    "version": 3
   },
   "file_extension": ".py",
   "mimetype": "text/x-python",
   "name": "python",
   "nbconvert_exporter": "python",
   "pygments_lexer": "ipython3",
   "version": "3.11.6"
  }
 },
 "nbformat": 4,
 "nbformat_minor": 2
}
